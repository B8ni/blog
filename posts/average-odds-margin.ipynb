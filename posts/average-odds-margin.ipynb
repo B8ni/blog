{
 "cells": [
  {
   "cell_type": "markdown",
   "id": "02a0bf0b",
   "metadata": {},
   "source": [
    "---\n",
    "toc: false\n",
    "format: revealjs\n",
    "description: Don't be afraid to build.\n",
    "author: Francesco Bottoni\n",
    "date: 08/18/2023\n",
    "categories: [odds, margin]\n",
    "title: Finding the Average Odds Margin\n",
    "fontsize: 1.3em\n",
    "---"
   ]
  },
  {
   "cell_type": "markdown",
   "id": "3d6d4c09",
   "metadata": {},
   "source": [
    "## Work based on\n",
    "Paper: [The Wisdom of the Crowd](https://www.football-data.co.uk/The_Wisdom_of_the_Crowd_updated.pdf)\n",
    "\n",
    "Author: [Joseph Buchdahl](https://twitter.com/12Xpert)"
   ]
  },
  {
   "cell_type": "markdown",
   "id": "2b91ce68",
   "metadata": {},
   "source": [
    "## Intuition\n",
    "\n",
    "Mr. [Joseph Buchdahl](https://twitter.com/12Xpert) shared a smart way to figure out the margin, called [Margin Weights Proportional to the Odds](https://www.football-data.co.uk/The_Wisdom_of_the_Crowd_updated.pdf) (pages 5 - 9).\n",
    "\n",
    "Ever wondered how odds margin actually works? You're spot on, the WOC [^1] strategy by Mr. [Buchdahl](https://twitter.com/12Xpert) works really well with the MPO [^2] method.\n",
    "\n",
    "Now, let's put aside Mr. Joseph's strategy and think about this: what's the fairest and most reliable way to calculate the margin? In my opinion, it's considering **all** options.\n",
    "\n",
    "Why, you may ask? Often, we turn to ensemble models to **minimize variability** while **enhancing consistency**. Rigorously testing diverse methods and **retaining** only **those** with **minimal correlation** can lead us to a **more precise reality**.\n",
    "\n",
    "The process is quite straightforward: **Gather the margins** obtained from these three or less distinct methods and **compute the average odds**. It's a remarkably simple approach that offers valuable insights."
   ]
  },
  {
   "cell_type": "markdown",
   "id": "f60864b5",
   "metadata": {},
   "source": [
    "## Margin Implementation"
   ]
  },
  {
   "cell_type": "markdown",
   "id": "cfced0df",
   "metadata": {},
   "source": [
    "### MPO"
   ]
  },
  {
   "cell_type": "code",
   "execution_count": null,
   "id": "425aaa44",
   "metadata": {},
   "outputs": [],
   "source": []
  },
  {
   "cell_type": "markdown",
   "id": "e45a6953",
   "metadata": {},
   "source": [
    "## Uncorrelated Margins"
   ]
  },
  {
   "cell_type": "markdown",
   "id": "40c51fa9",
   "metadata": {},
   "source": [
    "\n",
    "## References:\n",
    "- [^1]: Wisdom of the Crowd\n",
    "- [^2]: Margin Proportional to Odds\n",
    "- [Interesting discussion on Margin calculation](https://twitter.com/Miguel_Figueres/status/1093466685661736960)"
   ]
  }
 ],
 "metadata": {
  "kernelspec": {
   "display_name": "Python 3 (ipykernel)",
   "language": "python",
   "name": "python3"
  },
  "language_info": {
   "codemirror_mode": {
    "name": "ipython",
    "version": 3
   },
   "file_extension": ".py",
   "mimetype": "text/x-python",
   "name": "python",
   "nbconvert_exporter": "python",
   "pygments_lexer": "ipython3",
   "version": "3.9.12"
  }
 },
 "nbformat": 4,
 "nbformat_minor": 5
}
